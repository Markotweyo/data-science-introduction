{
 "cells": [
  {
   "cell_type": "code",
   "execution_count": null,
   "metadata": {},
   "outputs": [],
   "source": [
    "def add_number(inputNumber):\n",
    "    output=inputNumber + 3\n",
    "    return(output)"
   ]
  },
  {
   "cell_type": "code",
   "execution_count": null,
   "metadata": {},
   "outputs": [],
   "source": [
    "add_number(10)"
   ]
  },
  {
   "cell_type": "code",
   "execution_count": null,
   "metadata": {},
   "outputs": [],
   "source": [
    "#define a function with multiple parameters\n",
    "def get_pay(num_of_hours, pay_per_hour, tax_bracket):\n",
    "    pay_before_tax=num_of_hours*pay_per_hour\n",
    "    pay_after_tax=pay_before_tax*(1-tax_bracket)\n",
    "    return(pay_after_tax)"
   ]
  },
  {
   "cell_type": "code",
   "execution_count": null,
   "metadata": {},
   "outputs": [],
   "source": [
    "#calling a function with multiple arguments\n",
    "full_pay=get_pay(40,24,0.22)\n",
    "print(full_pay)"
   ]
  },
  {
   "cell_type": "code",
   "execution_count": 9,
   "metadata": {},
   "outputs": [
    {
     "name": "stdout",
     "output_type": "stream",
     "text": [
      "10\n",
      "40\n"
     ]
    },
    {
     "data": {
      "text/plain": [
       "50"
      ]
     },
     "execution_count": 9,
     "metadata": {},
     "output_type": "execute_result"
    }
   ],
   "source": [
    "#Declaring functions with default values and passing them to function call arguments.\n",
    "def add(n2,n1=5):\n",
    "    print (n2)\n",
    "    print (n1)\n",
    "    return(n1+n2)\n",
    "\n",
    "add(10,40)"
   ]
  },
  {
   "cell_type": "code",
   "execution_count": 4,
   "metadata": {},
   "outputs": [
    {
     "data": {
      "text/plain": [
       "40"
      ]
     },
     "execution_count": 4,
     "metadata": {},
     "output_type": "execute_result"
    }
   ],
   "source": [
    "def add_numbers(n2,n1=5):\n",
    "    return (n1+n2)\n",
    "add_numbers(10,30)"
   ]
  },
  {
   "cell_type": "code",
   "execution_count": 19,
   "metadata": {},
   "outputs": [
    {
     "name": "stdout",
     "output_type": "stream",
     "text": [
      "Negative number changed to zero 0\n"
     ]
    }
   ],
   "source": [
    "#if statement control loop using input() function.\n",
    "x=int(input(\"please enter an integer\"))\n",
    "if x<0:\n",
    "    x=0\n",
    "    print(\"Negative number changed to zero\",x)\n",
    "elif x==0:\n",
    "    print(\"Zero\")\n",
    "elif x==1:\n",
    "    print(\"Single\")\n",
    "else:\n",
    "    print(x)"
   ]
  },
  {
   "cell_type": "code",
   "execution_count": 22,
   "metadata": {},
   "outputs": [
    {
     "name": "stdout",
     "output_type": "stream",
     "text": [
      "cat 3\n",
      "dog 3\n",
      "window 6\n",
      "anti-virus 10\n",
      "defenestrate 12\n"
     ]
    }
   ],
   "source": [
    "#for statement control loop\n",
    "words=['cat','dog','window','anti-virus','defenestrate']\n",
    "for word in words:\n",
    "    print(word,len(word))"
   ]
  },
  {
   "cell_type": "code",
   "execution_count": 34,
   "metadata": {},
   "outputs": [
    {
     "name": "stdout",
     "output_type": "stream",
     "text": [
      "{'Hans': 'Active', 'Mark': 'Active'}\n"
     ]
    }
   ],
   "source": [
    "\n",
    "users={'Hans':'Active','Eleonor':'Inactive','Mark':'Active','Tovalrd':'Inactive'} #create a sample collection\n",
    "users['Hans']\n",
    "users.copy()\n",
    "for user, status in users.copy().items(): #Strategy: Iterate over a copy\n",
    "   if status == 'Inactive':\n",
    "        del users[user]\n",
    "print(users)"
   ]
  },
  {
   "cell_type": "code",
   "execution_count": 36,
   "metadata": {},
   "outputs": [
    {
     "name": "stdout",
     "output_type": "stream",
     "text": [
      "{'Eleonor': 'Inactive', 'Tovalrd': 'Inactive'}\n"
     ]
    }
   ],
   "source": [
    "users={'Hans':'Active','Eleonor':'Inactive','Mark':'Active','Tovalrd':'Inactive'} #create a sample collection\n",
    "new_users={} #create a new empty disctionary that will store users\n",
    "for user, status in users.copy().items(): #Strategy: Iterate over a copy\n",
    "   if status == 'Inactive':\n",
    "        new_users[user]=status #putting the user into the new empty disctionary based on the status\n",
    "print(new_users)"
   ]
  }
 ],
 "metadata": {
  "kernelspec": {
   "display_name": "base",
   "language": "python",
   "name": "python3"
  },
  "language_info": {
   "codemirror_mode": {
    "name": "ipython",
    "version": 3
   },
   "file_extension": ".py",
   "mimetype": "text/x-python",
   "name": "python",
   "nbconvert_exporter": "python",
   "pygments_lexer": "ipython3",
   "version": "3.11.4"
  }
 },
 "nbformat": 4,
 "nbformat_minor": 2
}
