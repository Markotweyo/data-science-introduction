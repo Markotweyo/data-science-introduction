{
 "cells": [
  {
   "cell_type": "code",
   "execution_count": null,
   "metadata": {},
   "outputs": [],
   "source": [
    "fruits=[\"banana\", \"orange\", \"apple\", \"microsoft\"]\n",
    "for fruit in fruits:\n",
    "    print(fruit)"
   ]
  },
  {
   "cell_type": "code",
   "execution_count": null,
   "metadata": {},
   "outputs": [],
   "source": [
    "array=[20,30,40]\n",
    "total=0\n",
    "for num in array:\n",
    "    total=total+num\n",
    "print(total)"
   ]
  },
  {
   "cell_type": "code",
   "execution_count": null,
   "metadata": {},
   "outputs": [],
   "source": [
    "range_of_number=range(1,101)\n",
    "total_sum=0\n",
    "for i in range_of_number:\n",
    "    total_sum=total_sum+i\n",
    "print(total_sum)"
   ]
  },
  {
   "cell_type": "code",
   "execution_count": null,
   "metadata": {},
   "outputs": [],
   "source": [
    "sum_total=0\n",
    "range(1,6)\n",
    "c=list(range(1,5))\n",
    "for i in c:\n",
    "    sum_total=sum_total+i\n",
    "print (sum_total)"
   ]
  },
  {
   "cell_type": "code",
   "execution_count": null,
   "metadata": {},
   "outputs": [],
   "source": [
    "total1=0\n",
    "for i in range(1,8):\n",
    "    if i%3==0:\n",
    "        total1+=i\n",
    "print(total1)\n",
    "        "
   ]
  },
  {
   "cell_type": "code",
   "execution_count": null,
   "metadata": {},
   "outputs": [],
   "source": [
    "total_sum=0\n",
    "for i in range(1,100):\n",
    "    if i%3==0 and i%5==0:\n",
    "        print(i)\n",
    "        total_sum+=i       \n",
    "print(total_sum)"
   ]
  },
  {
   "cell_type": "code",
   "execution_count": 6,
   "metadata": {},
   "outputs": [
    {
     "name": "stdout",
     "output_type": "stream",
     "text": [
      "10\n"
     ]
    }
   ],
   "source": [
    "#While loops\n",
    "total2=0\n",
    "j=1\n",
    "while j<5:\n",
    "    total2+=j\n",
    "    j+=1\n",
    "print(total2)"
   ]
  },
  {
   "cell_type": "code",
   "execution_count": 10,
   "metadata": {},
   "outputs": [
    {
     "name": "stdout",
     "output_type": "stream",
     "text": [
      "17\n"
     ]
    }
   ],
   "source": [
    "given_list=[5,4,4,3,1,-2,-3,-5]\n",
    "total3=0\n",
    "i=0\n",
    "while given_list[i]>0:\n",
    "    total3+=given_list[i]\n",
    "    i+=1\n",
    "print(total3)"
   ]
  },
  {
   "cell_type": "code",
   "execution_count": 12,
   "metadata": {},
   "outputs": [
    {
     "name": "stdout",
     "output_type": "stream",
     "text": [
      "17\n"
     ]
    }
   ],
   "source": [
    "#Add all elements of alist using while loop\n",
    "given_list2=[5,4,4,3,1]\n",
    "total4=0\n",
    "i=0\n",
    "while i<len(given_list2) and given_list2[i]>0:\n",
    "    total4+=given_list2[i]\n",
    "    i+=1\n",
    "print(total4)"
   ]
  },
  {
   "cell_type": "code",
   "execution_count": 14,
   "metadata": {},
   "outputs": [
    {
     "name": "stdout",
     "output_type": "stream",
     "text": [
      "17\n"
     ]
    }
   ],
   "source": [
    "#Add only the positive elements of list using for loop and break condition\n",
    "given_list4=[5,4,4,3,1,-2,-3,-5]\n",
    "total4=0\n",
    "for element in given_list4:\n",
    "    if element<0:\n",
    "        break\n",
    "    total4+=element\n",
    "print(total4)\n",
    "    "
   ]
  },
  {
   "cell_type": "code",
   "execution_count": 18,
   "metadata": {},
   "outputs": [
    {
     "name": "stdout",
     "output_type": "stream",
     "text": [
      "17\n"
     ]
    }
   ],
   "source": [
    "given_list5=[5,4,4,3,1,-2,-3,-5]\n",
    "total5=0\n",
    "i=0\n",
    "while True:\n",
    "    total5+=given_list5[i]\n",
    "    i=i+1\n",
    "    if given_list5[i]<=0:\n",
    "        break\n",
    "    \n",
    "print(total5)\n",
    "    "
   ]
  }
 ],
 "metadata": {
  "kernelspec": {
   "display_name": "base",
   "language": "python",
   "name": "python3"
  },
  "language_info": {
   "codemirror_mode": {
    "name": "ipython",
    "version": 3
   },
   "file_extension": ".py",
   "mimetype": "text/x-python",
   "name": "python",
   "nbconvert_exporter": "python",
   "pygments_lexer": "ipython3",
   "version": "3.11.4"
  }
 },
 "nbformat": 4,
 "nbformat_minor": 2
}
